{
 "cells": [
  {
   "cell_type": "code",
   "execution_count": 9,
   "metadata": {},
   "outputs": [
    {
     "name": "stdout",
     "output_type": "stream",
     "text": [
      "          Date     Open     High      Low    Close    Volume  OpenInt\n",
      "0   1984-09-07  0.42388  0.42902  0.41874  0.42388  23220030        0\n",
      "1   1984-09-10  0.42388  0.42516  0.41366  0.42134  18022532        0\n",
      "2   1984-09-11  0.42516  0.43668  0.42516  0.42902  42498199        0\n",
      "3   1984-09-12  0.42902  0.43157  0.41618  0.41618  37125801        0\n",
      "4   1984-09-13  0.43927  0.44052  0.43927  0.43927  57822062        0\n",
      "5   1984-09-14  0.44052  0.45589  0.44052  0.44566  68847968        0\n",
      "6   1984-09-17  0.45718  0.46357  0.45718  0.45718  53755262        0\n",
      "7   1984-09-18  0.45718  0.46103  0.44052  0.44052  27136886        0\n",
      "8   1984-09-19  0.44052  0.44566  0.43157  0.43157  29641922        0\n",
      "9   1984-09-20  0.43286  0.43668  0.43286  0.43286  18453585        0\n",
      "10  1984-09-21  0.43286  0.44566  0.42388  0.42902  27842780        0\n",
      "11  1984-09-24  0.42902  0.43157  0.42516  0.42516  22033109        0\n",
      "12  1984-09-25  0.42388  0.42388  0.41618  0.41618  46515020        0\n",
      "13  1984-09-26  0.41618  0.43540  0.41111  0.41111  30947546        0\n",
      "14  1984-09-27  0.41111  0.41366  0.41111  0.41111  29541971        0\n"
     ]
    }
   ],
   "source": [
    "import pandas as pd\n",
    "\n",
    "# reading a tab seperated text file with pandas\n",
    "df = pd.read_csv('NYSE Analysis/4538%2F7213%2Fbundle%2Farchive/Stocks/aapl.us.txt')\n",
    "print(df.head(15))"
   ]
  },
  {
   "cell_type": "code",
   "execution_count": 28,
   "metadata": {},
   "outputs": [
    {
     "name": "stdout",
     "output_type": "stream",
     "text": [
      "Index(['Date', 'Open', 'High', 'Low', 'Close', 'Volume', 'OpenInt'], dtype='object')\n"
     ]
    }
   ],
   "source": [
    "# print headers (columns)\n",
    "print(df.columns)"
   ]
  },
  {
   "cell_type": "code",
   "execution_count": 35,
   "metadata": {},
   "outputs": [
    {
     "name": "stdout",
     "output_type": "stream",
     "text": [
      "         Date     Open     High      Low    Close    Volume  OpenInt\n",
      "1  1984-09-10  0.42388  0.42516  0.41366  0.42134  18022532        0\n",
      "2  1984-09-11  0.42516  0.43668  0.42516  0.42902  42498199        0\n",
      "3  1984-09-12  0.42902  0.43157  0.41618  0.41618  37125801        0\n",
      "4  1984-09-13  0.43927  0.44052  0.43927  0.43927  57822062        0\n"
     ]
    }
   ],
   "source": [
    "print(df.iloc[1:5])"
   ]
  },
  {
   "cell_type": "code",
   "execution_count": 38,
   "metadata": {},
   "outputs": [
    {
     "name": "stdout",
     "output_type": "stream",
     "text": [
      "1984-09-10\n"
     ]
    }
   ],
   "source": [
    "# itterates through all rows\n",
    "# for index, row in df.iterrows():\n",
    "#     print(index, row['Open'])\n",
    "\n",
    "#Prints columns\n",
    "# print(df.columns.tolist())\n",
    "\n"
   ]
  },
  {
   "cell_type": "code",
   "execution_count": 39,
   "metadata": {},
   "outputs": [
    {
     "name": "stdout",
     "output_type": "stream",
     "text": [
      "1984-09-10\n"
     ]
    }
   ],
   "source": [
    "#prints out row at index 1 and column and index 0 \n",
    "print(df.iloc[1,0])"
   ]
  },
  {
   "cell_type": "code",
   "execution_count": 54,
   "metadata": {},
   "outputs": [
    {
     "data": {
      "text/html": [
       "<div>\n",
       "<style scoped>\n",
       "    .dataframe tbody tr th:only-of-type {\n",
       "        vertical-align: middle;\n",
       "    }\n",
       "\n",
       "    .dataframe tbody tr th {\n",
       "        vertical-align: top;\n",
       "    }\n",
       "\n",
       "    .dataframe thead th {\n",
       "        text-align: right;\n",
       "    }\n",
       "</style>\n",
       "<table border=\"1\" class=\"dataframe\">\n",
       "  <thead>\n",
       "    <tr style=\"text-align: right;\">\n",
       "      <th></th>\n",
       "      <th>Date</th>\n",
       "      <th>Open</th>\n",
       "      <th>High</th>\n",
       "      <th>Low</th>\n",
       "      <th>Close</th>\n",
       "      <th>Volume</th>\n",
       "      <th>OpenInt</th>\n",
       "    </tr>\n",
       "  </thead>\n",
       "  <tbody>\n",
       "    <tr>\n",
       "      <th>0</th>\n",
       "      <td>1984-09-07</td>\n",
       "      <td>0.42388</td>\n",
       "      <td>0.42902</td>\n",
       "      <td>0.41874</td>\n",
       "      <td>0.42388</td>\n",
       "      <td>23220030</td>\n",
       "      <td>0</td>\n",
       "    </tr>\n",
       "    <tr>\n",
       "      <th>1</th>\n",
       "      <td>1984-09-10</td>\n",
       "      <td>0.42388</td>\n",
       "      <td>0.42516</td>\n",
       "      <td>0.41366</td>\n",
       "      <td>0.42134</td>\n",
       "      <td>18022532</td>\n",
       "      <td>0</td>\n",
       "    </tr>\n",
       "    <tr>\n",
       "      <th>2</th>\n",
       "      <td>1984-09-11</td>\n",
       "      <td>0.42516</td>\n",
       "      <td>0.43668</td>\n",
       "      <td>0.42516</td>\n",
       "      <td>0.42902</td>\n",
       "      <td>42498199</td>\n",
       "      <td>0</td>\n",
       "    </tr>\n",
       "    <tr>\n",
       "      <th>3</th>\n",
       "      <td>1984-09-12</td>\n",
       "      <td>0.42902</td>\n",
       "      <td>0.43157</td>\n",
       "      <td>0.41618</td>\n",
       "      <td>0.41618</td>\n",
       "      <td>37125801</td>\n",
       "      <td>0</td>\n",
       "    </tr>\n",
       "    <tr>\n",
       "      <th>4</th>\n",
       "      <td>1984-09-13</td>\n",
       "      <td>0.43927</td>\n",
       "      <td>0.44052</td>\n",
       "      <td>0.43927</td>\n",
       "      <td>0.43927</td>\n",
       "      <td>57822062</td>\n",
       "      <td>0</td>\n",
       "    </tr>\n",
       "    <tr>\n",
       "      <th>...</th>\n",
       "      <td>...</td>\n",
       "      <td>...</td>\n",
       "      <td>...</td>\n",
       "      <td>...</td>\n",
       "      <td>...</td>\n",
       "      <td>...</td>\n",
       "      <td>...</td>\n",
       "    </tr>\n",
       "    <tr>\n",
       "      <th>8359</th>\n",
       "      <td>2017-11-06</td>\n",
       "      <td>171.75000</td>\n",
       "      <td>174.36000</td>\n",
       "      <td>171.10000</td>\n",
       "      <td>173.63000</td>\n",
       "      <td>34901241</td>\n",
       "      <td>0</td>\n",
       "    </tr>\n",
       "    <tr>\n",
       "      <th>8360</th>\n",
       "      <td>2017-11-07</td>\n",
       "      <td>173.29000</td>\n",
       "      <td>174.51000</td>\n",
       "      <td>173.29000</td>\n",
       "      <td>174.18000</td>\n",
       "      <td>24424877</td>\n",
       "      <td>0</td>\n",
       "    </tr>\n",
       "    <tr>\n",
       "      <th>8361</th>\n",
       "      <td>2017-11-08</td>\n",
       "      <td>174.03000</td>\n",
       "      <td>175.61000</td>\n",
       "      <td>173.71000</td>\n",
       "      <td>175.61000</td>\n",
       "      <td>24451166</td>\n",
       "      <td>0</td>\n",
       "    </tr>\n",
       "    <tr>\n",
       "      <th>8362</th>\n",
       "      <td>2017-11-09</td>\n",
       "      <td>174.48000</td>\n",
       "      <td>175.46000</td>\n",
       "      <td>172.52000</td>\n",
       "      <td>175.25000</td>\n",
       "      <td>29533086</td>\n",
       "      <td>0</td>\n",
       "    </tr>\n",
       "    <tr>\n",
       "      <th>8363</th>\n",
       "      <td>2017-11-10</td>\n",
       "      <td>175.11000</td>\n",
       "      <td>175.38000</td>\n",
       "      <td>174.27000</td>\n",
       "      <td>174.67000</td>\n",
       "      <td>25130494</td>\n",
       "      <td>0</td>\n",
       "    </tr>\n",
       "  </tbody>\n",
       "</table>\n",
       "<p>8038 rows × 7 columns</p>\n",
       "</div>"
      ],
      "text/plain": [
       "            Date       Open       High        Low      Close    Volume  \\\n",
       "0     1984-09-07    0.42388    0.42902    0.41874    0.42388  23220030   \n",
       "1     1984-09-10    0.42388    0.42516    0.41366    0.42134  18022532   \n",
       "2     1984-09-11    0.42516    0.43668    0.42516    0.42902  42498199   \n",
       "3     1984-09-12    0.42902    0.43157    0.41618    0.41618  37125801   \n",
       "4     1984-09-13    0.43927    0.44052    0.43927    0.43927  57822062   \n",
       "...          ...        ...        ...        ...        ...       ...   \n",
       "8359  2017-11-06  171.75000  174.36000  171.10000  173.63000  34901241   \n",
       "8360  2017-11-07  173.29000  174.51000  173.29000  174.18000  24424877   \n",
       "8361  2017-11-08  174.03000  175.61000  173.71000  175.61000  24451166   \n",
       "8362  2017-11-09  174.48000  175.46000  172.52000  175.25000  29533086   \n",
       "8363  2017-11-10  175.11000  175.38000  174.27000  174.67000  25130494   \n",
       "\n",
       "      OpenInt  \n",
       "0           0  \n",
       "1           0  \n",
       "2           0  \n",
       "3           0  \n",
       "4           0  \n",
       "...       ...  \n",
       "8359        0  \n",
       "8360        0  \n",
       "8361        0  \n",
       "8362        0  \n",
       "8363        0  \n",
       "\n",
       "[8038 rows x 7 columns]"
      ]
     },
     "execution_count": 54,
     "metadata": {},
     "output_type": "execute_result"
    }
   ],
   "source": [
    "df.loc[df['Open'] > 0.42388]\n",
    "# df.Open.dtype"
   ]
  },
  {
   "cell_type": "code",
   "execution_count": 6,
   "metadata": {},
   "outputs": [
    {
     "data": {
      "text/html": [
       "<div>\n",
       "<style scoped>\n",
       "    .dataframe tbody tr th:only-of-type {\n",
       "        vertical-align: middle;\n",
       "    }\n",
       "\n",
       "    .dataframe tbody tr th {\n",
       "        vertical-align: top;\n",
       "    }\n",
       "\n",
       "    .dataframe thead th {\n",
       "        text-align: right;\n",
       "    }\n",
       "</style>\n",
       "<table border=\"1\" class=\"dataframe\">\n",
       "  <thead>\n",
       "    <tr style=\"text-align: right;\">\n",
       "      <th></th>\n",
       "      <th>Open</th>\n",
       "      <th>High</th>\n",
       "      <th>Low</th>\n",
       "      <th>Close</th>\n",
       "      <th>Volume</th>\n",
       "      <th>OpenInt</th>\n",
       "    </tr>\n",
       "  </thead>\n",
       "  <tbody>\n",
       "    <tr>\n",
       "      <th>count</th>\n",
       "      <td>8364.000000</td>\n",
       "      <td>8364.000000</td>\n",
       "      <td>8364.000000</td>\n",
       "      <td>8364.000000</td>\n",
       "      <td>8.364000e+03</td>\n",
       "      <td>8364.0</td>\n",
       "    </tr>\n",
       "    <tr>\n",
       "      <th>mean</th>\n",
       "      <td>22.284350</td>\n",
       "      <td>22.495867</td>\n",
       "      <td>22.054244</td>\n",
       "      <td>22.281018</td>\n",
       "      <td>1.066416e+08</td>\n",
       "      <td>0.0</td>\n",
       "    </tr>\n",
       "    <tr>\n",
       "      <th>std</th>\n",
       "      <td>37.763402</td>\n",
       "      <td>38.057733</td>\n",
       "      <td>37.447432</td>\n",
       "      <td>37.764469</td>\n",
       "      <td>9.935187e+07</td>\n",
       "      <td>0.0</td>\n",
       "    </tr>\n",
       "    <tr>\n",
       "      <th>min</th>\n",
       "      <td>0.233050</td>\n",
       "      <td>0.235640</td>\n",
       "      <td>0.230510</td>\n",
       "      <td>0.230510</td>\n",
       "      <td>0.000000e+00</td>\n",
       "      <td>0.0</td>\n",
       "    </tr>\n",
       "    <tr>\n",
       "      <th>25%</th>\n",
       "      <td>1.137100</td>\n",
       "      <td>1.164200</td>\n",
       "      <td>1.112800</td>\n",
       "      <td>1.137100</td>\n",
       "      <td>4.384365e+07</td>\n",
       "      <td>0.0</td>\n",
       "    </tr>\n",
       "    <tr>\n",
       "      <th>50%</th>\n",
       "      <td>1.632800</td>\n",
       "      <td>1.663400</td>\n",
       "      <td>1.600600</td>\n",
       "      <td>1.628250</td>\n",
       "      <td>7.481383e+07</td>\n",
       "      <td>0.0</td>\n",
       "    </tr>\n",
       "    <tr>\n",
       "      <th>75%</th>\n",
       "      <td>23.739000</td>\n",
       "      <td>23.930500</td>\n",
       "      <td>23.335750</td>\n",
       "      <td>23.694500</td>\n",
       "      <td>1.320534e+08</td>\n",
       "      <td>0.0</td>\n",
       "    </tr>\n",
       "    <tr>\n",
       "      <th>max</th>\n",
       "      <td>175.110000</td>\n",
       "      <td>175.610000</td>\n",
       "      <td>174.270000</td>\n",
       "      <td>175.610000</td>\n",
       "      <td>2.069770e+09</td>\n",
       "      <td>0.0</td>\n",
       "    </tr>\n",
       "  </tbody>\n",
       "</table>\n",
       "</div>"
      ],
      "text/plain": [
       "              Open         High          Low        Close        Volume  \\\n",
       "count  8364.000000  8364.000000  8364.000000  8364.000000  8.364000e+03   \n",
       "mean     22.284350    22.495867    22.054244    22.281018  1.066416e+08   \n",
       "std      37.763402    38.057733    37.447432    37.764469  9.935187e+07   \n",
       "min       0.233050     0.235640     0.230510     0.230510  0.000000e+00   \n",
       "25%       1.137100     1.164200     1.112800     1.137100  4.384365e+07   \n",
       "50%       1.632800     1.663400     1.600600     1.628250  7.481383e+07   \n",
       "75%      23.739000    23.930500    23.335750    23.694500  1.320534e+08   \n",
       "max     175.110000   175.610000   174.270000   175.610000  2.069770e+09   \n",
       "\n",
       "       OpenInt  \n",
       "count   8364.0  \n",
       "mean       0.0  \n",
       "std        0.0  \n",
       "min        0.0  \n",
       "25%        0.0  \n",
       "50%        0.0  \n",
       "75%        0.0  \n",
       "max        0.0  "
      ]
     },
     "execution_count": 6,
     "metadata": {},
     "output_type": "execute_result"
    }
   ],
   "source": [
    "df.describe()"
   ]
  },
  {
   "cell_type": "code",
   "execution_count": 7,
   "metadata": {},
   "outputs": [
    {
     "name": "stdout",
     "output_type": "stream",
     "text": [
      "         Date     Open     High      Low    Close    Volume  OpenInt\n",
      "0  1984-09-07  0.42388  0.42902  0.41874  0.42388  23220030        0\n",
      "1  1984-09-10  0.42388  0.42516  0.41366  0.42134  18022532        0\n",
      "2  1984-09-11  0.42516  0.43668  0.42516  0.42902  42498199        0\n",
      "3  1984-09-12  0.42902  0.43157  0.41618  0.41618  37125801        0\n",
      "4  1984-09-13  0.43927  0.44052  0.43927  0.43927  57822062        0\n"
     ]
    }
   ],
   "source": [
    "print(df.head())"
   ]
  },
  {
   "cell_type": "code",
   "execution_count": null,
   "metadata": {},
   "outputs": [],
   "source": []
  },
  {
   "cell_type": "code",
   "execution_count": null,
   "metadata": {},
   "outputs": [],
   "source": []
  },
  {
   "cell_type": "code",
   "execution_count": null,
   "metadata": {},
   "outputs": [],
   "source": [
    "\""
   ]
  }
 ],
 "metadata": {
  "kernelspec": {
   "display_name": "Python 3",
   "language": "python",
   "name": "python3"
  },
  "language_info": {
   "codemirror_mode": {
    "name": "ipython",
    "version": 3
   },
   "file_extension": ".py",
   "mimetype": "text/x-python",
   "name": "python",
   "nbconvert_exporter": "python",
   "pygments_lexer": "ipython3",
   "version": "3.7.6"
  }
 },
 "nbformat": 4,
 "nbformat_minor": 4
}
